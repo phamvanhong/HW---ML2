{
 "cells": [
  {
   "cell_type": "markdown",
   "id": "c1541094",
   "metadata": {},
   "source": [
    "# K-means Cluster "
   ]
  },
  {
   "cell_type": "markdown",
   "id": "1796f32d",
   "metadata": {},
   "source": [
    "# Pham Van Hong - 11201638 "
   ]
  },
  {
   "cell_type": "markdown",
   "id": "1925d805",
   "metadata": {},
   "source": [
    "# Problem 1 "
   ]
  },
  {
   "cell_type": "code",
   "execution_count": 1,
   "id": "c97b01b5",
   "metadata": {},
   "outputs": [],
   "source": [
    "import numpy as np\n",
    "import matplotlib.pyplot as plt\n",
    "from scipy.spatial.distance import cdist\n",
    "from sklearn import datasets\n",
    "from sklearn.decomposition import PCA"
   ]
  },
  {
   "cell_type": "markdown",
   "id": "2e71b9ef",
   "metadata": {},
   "source": [
    "Steps:\n",
    "+ Khởi tạo K điểm dữ liệu trong bộ dữ liệu và tạm thời coi nó là center\n",
    "+ Center của mỗi điểm dữ liệu được xác định là 1 trong cluster gần nó nhất\n",
    "+ Tính toán lại vị trí của center\n",
    "+ Lặp lại bước 2, 3 cho đến khi vị trí center k thay đổi"
   ]
  },
  {
   "cell_type": "code",
   "execution_count": 2,
   "id": "440d627a",
   "metadata": {},
   "outputs": [],
   "source": [
    "means = np.random.randint(low = 1, high = 20, size = (4, 2))"
   ]
  },
  {
   "cell_type": "code",
   "execution_count": 3,
   "id": "534241d9",
   "metadata": {},
   "outputs": [
    {
     "data": {
      "text/plain": [
       "array([[ 3,  9],\n",
       "       [12,  3],\n",
       "       [ 9,  8],\n",
       "       [13, 16]])"
      ]
     },
     "execution_count": 3,
     "metadata": {},
     "output_type": "execute_result"
    }
   ],
   "source": [
    "means"
   ]
  },
  {
   "cell_type": "code",
   "execution_count": 4,
   "id": "cf4bf496",
   "metadata": {},
   "outputs": [],
   "source": [
    "n_samples = 500\n",
    "n_cluster = 3\n",
    "cov = [[1, 0], [0, 1]]"
   ]
  },
  {
   "cell_type": "code",
   "execution_count": 5,
   "id": "6ee0ec25",
   "metadata": {},
   "outputs": [],
   "source": [
    "X0 = np.random.multivariate_normal(means[0], cov, n_samples)\n",
    "X1 = np.random.multivariate_normal(means[1], cov, n_samples)\n",
    "X2 = np.random.multivariate_normal(means[2], cov, n_samples)\n",
    "X = np.concatenate((X0, X1, X2), axis = 0)"
   ]
  },
  {
   "cell_type": "code",
   "execution_count": 6,
   "id": "6d3d8599",
   "metadata": {},
   "outputs": [],
   "source": [
    "def display(X, label):\n",
    "    K = np.amax(label) + 1\n",
    "    X0 = X[label == 0, :]\n",
    "    X1 = X[label == 1, :]\n",
    "    X2 = X[label == 2, :]\n",
    "    \n",
    "    plt.plot(X0[:, 0], X0[:, 1], 'b^', markersize = 5, alpha = .8)\n",
    "    plt.plot(X1[:, 0], X1[:, 1], 'go', markersize = 5, alpha = .8)\n",
    "    plt.plot(X2[:, 0], X2[:, 1], 'rs', markersize = 5, alpha = .8)\n",
    "\n",
    "    plt.axis('equal')\n",
    "    plt.plot()\n",
    "    plt.show()"
   ]
  },
  {
   "cell_type": "code",
   "execution_count": 7,
   "id": "ad0d72d8",
   "metadata": {},
   "outputs": [
    {
     "data": {
      "image/png": "[encoded data removed]",
      "text/plain": [
       "<Figure size 432x288 with 1 Axes>"
      ]
     },
     "metadata": {
      "needs_background": "light"
     },
     "output_type": "display_data"
    }
   ],
   "source": [
    "plt.xlabel('x')\n",
    "plt.ylabel('y')\n",
    "plt.plot(X[:,0], X[:, 1], 'bo', markersize = 4)\n",
    "plt.plot()\n",
    "plt.show()"
   ]
  },
  {
   "cell_type": "code",
   "execution_count": 8,
   "id": "a7479889",
   "metadata": {},
   "outputs": [],
   "source": [
    "def creat_center(X, n_cluster):\n",
    "    # tạo centers ban đầu\n",
    "  \t return X[np.random.choice(X.shape[0], n_cluster, replace=False)]"
   ]
  },
  {
   "cell_type": "code",
   "execution_count": 9,
   "id": "6fb3e82a",
   "metadata": {},
   "outputs": [],
   "source": [
    "def k_means_predict(X, centers):\n",
    "    # dự đoán nhãn mới cho các điểm khi biết các centers\n",
    "    D = cdist(X, centers)\n",
    "    return np.argmin(D, axis = 1)"
   ]
  },
  {
   "cell_type": "code",
   "execution_count": 10,
   "id": "4a7cf114",
   "metadata": {},
   "outputs": [],
   "source": [
    "def update_centers(X, labels, K):\n",
    "    # update các centers mới \n",
    "    centers = np.zeros((K, X.shape[1]))\n",
    "    for k in range(K):\n",
    "        Xk = X[labels == k, :]\n",
    "        centers[k,:] = np.mean(Xk, axis = 0)\n",
    "    return centers"
   ]
  },
  {
   "cell_type": "code",
   "execution_count": 11,
   "id": "23bc329a",
   "metadata": {},
   "outputs": [],
   "source": [
    "def check_conditions(centers, new_centers):\n",
    "    # kiểm tra điều kiện dừng của thuật toán\n",
    "    return (set([tuple(a) for a in centers]) == set([tuple(a) for a in new_centers]))"
   ]
  },
  {
   "cell_type": "code",
   "execution_count": 12,
   "id": "cc05caca",
   "metadata": {},
   "outputs": [],
   "source": [
    "def kmeans(X, K):\n",
    "    centers = [creat_center(X, K)]\n",
    "    labels = []\n",
    "    it = 0 \n",
    "    while True:\n",
    "        labels.append(k_means_predict(X, centers[-1]))\n",
    "        new_centers = update_centers(X, labels[-1], K)\n",
    "        if check_conditions(centers[-1], new_centers):\n",
    "            break\n",
    "        centers.append(new_centers)\n",
    "        it += 1\n",
    "    return (centers, labels, it)"
   ]
  },
  {
   "cell_type": "code",
   "execution_count": 13,
   "id": "f742ec75",
   "metadata": {},
   "outputs": [
    {
     "name": "stdout",
     "output_type": "stream",
     "text": [
      "Centers found by our algorithm:\n",
      "[[ 3.02366788  9.00830368]\n",
      " [12.04922573  2.962088  ]\n",
      " [ 9.00277064  8.04532718]]\n"
     ]
    },
    {
     "data": {
      "image/png": "[encoded data removed]",
      "text/plain": [
       "<Figure size 432x288 with 1 Axes>"
      ]
     },
     "metadata": {
      "needs_background": "light"
     },
     "output_type": "display_data"
    }
   ],
   "source": [
    "(centers, labels, it) = kmeans(X, n_cluster)\n",
    "print('Centers found by our algorithm:')\n",
    "print(centers[-1])\n",
    "\n",
    "display(X, labels[-1])"
   ]
  },
  {
   "cell_type": "markdown",
   "id": "88c41eb7",
   "metadata": {},
   "source": [
    "# Problem 2"
   ]
  },
  {
   "cell_type": "markdown",
   "id": "bca74911",
   "metadata": {},
   "source": [
    "iris data"
   ]
  },
  {
   "cell_type": "code",
   "execution_count": 14,
   "id": "5a36065b",
   "metadata": {},
   "outputs": [],
   "source": [
    "iris = datasets.load_iris()"
   ]
  },
  {
   "cell_type": "code",
   "execution_count": 15,
   "id": "bc8635a5",
   "metadata": {},
   "outputs": [],
   "source": [
    "iris_reduced = PCA(n_components = 2).fit_transform(iris.data)"
   ]
  },
  {
   "cell_type": "code",
   "execution_count": null,
   "id": "a2dd59b6",
   "metadata": {},
   "outputs": [],
   "source": [
    "iris_reduced"
   ]
  },
  {
   "cell_type": "code",
   "execution_count": 21,
   "id": "c6ec2333",
   "metadata": {},
   "outputs": [],
   "source": [
    "kmean_iris = kmeans(X = iris_reduced, K = 3)"
   ]
  },
  {
   "cell_type": "code",
   "execution_count": 31,
   "id": "ae783542",
   "metadata": {},
   "outputs": [
    {
     "name": "stdout",
     "output_type": "stream",
     "text": [
      "Centers found by our algorithm:\n",
      "[[-2.57133688  0.45835798]\n",
      " [ 1.40613269 -0.05734426]\n",
      " [-2.39572537 -0.41647304]]\n"
     ]
    },
    {
     "data": {
      "image/png": "[encoded data removed]",
      "text/plain": [
       "<Figure size 432x288 with 1 Axes>"
      ]
     },
     "metadata": {
      "needs_background": "light"
     },
     "output_type": "display_data"
    }
   ],
   "source": [
    "(centers, labels, it) = kmeans(iris_reduced, 3)\n",
    "print('Centers found by our algorithm:')\n",
    "print(centers[-1])\n",
    "display(iris_reduced, labels[-1])"
   ]
  },
  {
   "cell_type": "code",
   "execution_count": 37,
   "id": "e8d471ba",
   "metadata": {},
   "outputs": [
    {
     "name": "stdout",
     "output_type": "stream",
     "text": [
      "Centers found by our algorithm:\n",
      "[[ 1.38640101 -0.06980433]\n",
      " [-2.53737542  0.12775509]]\n"
     ]
    },
    {
     "data": {
      "image/png": "[encoded data removed]",
      "text/plain": [
       "<Figure size 432x288 with 1 Axes>"
      ]
     },
     "metadata": {
      "needs_background": "light"
     },
     "output_type": "display_data"
    }
   ],
   "source": [
    "(centers, labels, it) = kmeans(iris_reduced, 2)\n",
    "print('Centers found by our algorithm:')\n",
    "print(centers[-1])\n",
    "display(iris_reduced, labels[-1])"
   ]
  },
  {
   "cell_type": "markdown",
   "id": "9e2e1d53",
   "metadata": {},
   "source": [
    "diabetes dataset"
   ]
  },
  {
   "cell_type": "code",
   "execution_count": 42,
   "id": "7f8f096d",
   "metadata": {},
   "outputs": [],
   "source": [
    "diabetes = datasets.load_diabetes()\n",
    "diabetes_reduced = PCA(n_components = 2).fit_transform(diabetes.data)"
   ]
  },
  {
   "cell_type": "code",
   "execution_count": 45,
   "id": "28301c48",
   "metadata": {},
   "outputs": [
    {
     "name": "stdout",
     "output_type": "stream",
     "text": [
      "Centers found by our algorithm:\n",
      "[[ 0.07717677 -0.00366271]\n",
      " [-0.08222571  0.00390232]]\n"
     ]
    },
    {
     "ename": "IndexError",
     "evalue": "boolean index did not match indexed array along dimension 0; dimension is 150 but corresponding boolean dimension is 442",
     "output_type": "error",
     "traceback": [
      "\u001b[1;31m---------------------------------------------------------------------------\u001b[0m",
      "\u001b[1;31mIndexError\u001b[0m                                Traceback (most recent call last)",
      "\u001b[1;32m<ipython-input-45-33a8aafc4f4c>\u001b[0m in \u001b[0;36m<module>\u001b[1;34m\u001b[0m\n\u001b[0;32m      3\u001b[0m \u001b[0mprint\u001b[0m\u001b[1;33m(\u001b[0m\u001b[1;34m'Centers found by our algorithm:'\u001b[0m\u001b[1;33m)\u001b[0m\u001b[1;33m\u001b[0m\u001b[1;33m\u001b[0m\u001b[0m\n\u001b[0;32m      4\u001b[0m \u001b[0mprint\u001b[0m\u001b[1;33m(\u001b[0m\u001b[0mcenters\u001b[0m\u001b[1;33m[\u001b[0m\u001b[1;33m-\u001b[0m\u001b[1;36m1\u001b[0m\u001b[1;33m]\u001b[0m\u001b[1;33m)\u001b[0m\u001b[1;33m\u001b[0m\u001b[1;33m\u001b[0m\u001b[0m\n\u001b[1;32m----> 5\u001b[1;33m \u001b[0mdisplay\u001b[0m\u001b[1;33m(\u001b[0m\u001b[0miris_reduced\u001b[0m\u001b[1;33m,\u001b[0m \u001b[0mlabels\u001b[0m\u001b[1;33m[\u001b[0m\u001b[1;33m-\u001b[0m\u001b[1;36m1\u001b[0m\u001b[1;33m]\u001b[0m\u001b[1;33m)\u001b[0m\u001b[1;33m\u001b[0m\u001b[1;33m\u001b[0m\u001b[0m\n\u001b[0m",
      "\u001b[1;32m<ipython-input-6-c3a1455e0728>\u001b[0m in \u001b[0;36mdisplay\u001b[1;34m(X, label)\u001b[0m\n\u001b[0;32m      1\u001b[0m \u001b[1;32mdef\u001b[0m \u001b[0mdisplay\u001b[0m\u001b[1;33m(\u001b[0m\u001b[0mX\u001b[0m\u001b[1;33m,\u001b[0m \u001b[0mlabel\u001b[0m\u001b[1;33m)\u001b[0m\u001b[1;33m:\u001b[0m\u001b[1;33m\u001b[0m\u001b[1;33m\u001b[0m\u001b[0m\n\u001b[0;32m      2\u001b[0m     \u001b[0mK\u001b[0m \u001b[1;33m=\u001b[0m \u001b[0mnp\u001b[0m\u001b[1;33m.\u001b[0m\u001b[0mamax\u001b[0m\u001b[1;33m(\u001b[0m\u001b[0mlabel\u001b[0m\u001b[1;33m)\u001b[0m \u001b[1;33m+\u001b[0m \u001b[1;36m1\u001b[0m\u001b[1;33m\u001b[0m\u001b[1;33m\u001b[0m\u001b[0m\n\u001b[1;32m----> 3\u001b[1;33m     \u001b[0mX0\u001b[0m \u001b[1;33m=\u001b[0m \u001b[0mX\u001b[0m\u001b[1;33m[\u001b[0m\u001b[0mlabel\u001b[0m \u001b[1;33m==\u001b[0m \u001b[1;36m0\u001b[0m\u001b[1;33m,\u001b[0m \u001b[1;33m:\u001b[0m\u001b[1;33m]\u001b[0m\u001b[1;33m\u001b[0m\u001b[1;33m\u001b[0m\u001b[0m\n\u001b[0m\u001b[0;32m      4\u001b[0m     \u001b[0mX1\u001b[0m \u001b[1;33m=\u001b[0m \u001b[0mX\u001b[0m\u001b[1;33m[\u001b[0m\u001b[0mlabel\u001b[0m \u001b[1;33m==\u001b[0m \u001b[1;36m1\u001b[0m\u001b[1;33m,\u001b[0m \u001b[1;33m:\u001b[0m\u001b[1;33m]\u001b[0m\u001b[1;33m\u001b[0m\u001b[1;33m\u001b[0m\u001b[0m\n\u001b[0;32m      5\u001b[0m     \u001b[0mX2\u001b[0m \u001b[1;33m=\u001b[0m \u001b[0mX\u001b[0m\u001b[1;33m[\u001b[0m\u001b[0mlabel\u001b[0m \u001b[1;33m==\u001b[0m \u001b[1;36m2\u001b[0m\u001b[1;33m,\u001b[0m \u001b[1;33m:\u001b[0m\u001b[1;33m]\u001b[0m\u001b[1;33m\u001b[0m\u001b[1;33m\u001b[0m\u001b[0m\n",
      "\u001b[1;31mIndexError\u001b[0m: boolean index did not match indexed array along dimension 0; dimension is 150 but corresponding boolean dimension is 442"
     ]
    }
   ],
   "source": [
    "kmean_diabetes = kmeans(X = diabetes_reduced, K = 2)\n",
    "(centers, labels, it) = kmeans(diabetes_reduced, 2)\n",
    "print('Centers found by our algorithm:')\n",
    "print(centers[-1])\n",
    "display(iris_reduced, labels[-1])"
   ]
  },
  {
   "cell_type": "code",
   "execution_count": null,
   "id": "4c71bb08",
   "metadata": {},
   "outputs": [],
   "source": []
  },
  {
   "cell_type": "markdown",
   "id": "17956829",
   "metadata": {},
   "source": [
    "# Problem 3"
   ]
  },
  {
   "cell_type": "code",
   "execution_count": null,
   "id": "b5a93ad2",
   "metadata": {},
   "outputs": [],
   "source": [
    "# Calculate the within-cluster sum of squares for each number of clusters\n",
    "k_values = range(1, 11)\n",
    "sum_of_squared_distances = []\n",
    "for k in k_values:\n",
    "    _, cluster_assignments = kmeans(X1, n_cluster)\n",
    "    sum_of_squared_distances.append(sum([np.linalg.norm(X1[i] - centroids[cluster_assignments[i]]) ** 2 for i in range(len(X1))]))\n",
    "\n",
    "# Plot the within-cluster sum of squares against the number of clusters\n",
    "plt.plot(k_values, sum_of_squared_distances, marker='o')\n",
    "plt.xlabel(\"Number of clusters\")\n",
    "plt.ylabel(\"Within-cluster sum of squares\")\n",
    "plt.show()"
   ]
  },
  {
   "cell_type": "code",
   "execution_count": null,
   "id": "863e2a34",
   "metadata": {},
   "outputs": [],
   "source": []
  }
 ],
 "metadata": {
  "kernelspec": {
   "display_name": "Python 3",
   "language": "python",
   "name": "python3"
  },
  "language_info": {
   "codemirror_mode": {
    "name": "ipython",
    "version": 3
   },
   "file_extension": ".py",
   "mimetype": "text/x-python",
   "name": "python",
   "nbconvert_exporter": "python",
   "pygments_lexer": "ipython3",
   "version": "3.8.8"
  }
 },
 "nbformat": 4,
 "nbformat_minor": 5
}
